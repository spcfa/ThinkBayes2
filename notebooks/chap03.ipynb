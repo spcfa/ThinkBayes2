{
 "cells": [
  {
   "cell_type": "markdown",
   "metadata": {},
   "source": [
    "# Distributions"
   ]
  },
  {
   "cell_type": "markdown",
   "metadata": {
    "tags": []
   },
   "source": [
    "Think Bayes, Second Edition\n",
    "\n",
    "Copyright 2020 Allen B. Downey\n",
    "\n",
    "License: [Attribution-NonCommercial-ShareAlike 4.0 International (CC BY-NC-SA 4.0)](https://creativecommons.org/licenses/by-nc-sa/4.0/)"
   ]
  },
  {
   "cell_type": "code",
   "execution_count": 1,
   "metadata": {
    "execution": {
     "iopub.execute_input": "2021-04-16T19:35:12.094262Z",
     "iopub.status.busy": "2021-04-16T19:35:12.093730Z",
     "iopub.status.idle": "2021-04-16T19:35:12.095822Z",
     "shell.execute_reply": "2021-04-16T19:35:12.095402Z"
    },
    "tags": []
   },
   "outputs": [],
   "source": [
    "# If we're running on Colab, install empiricaldist\n",
    "# https://pypi.org/project/empiricaldist/\n",
    "\n",
    "import sys\n",
    "IN_COLAB = 'google.colab' in sys.modules\n",
    "\n",
    "if IN_COLAB:\n",
    "    %pip install empiricaldist"
   ]
  },
  {
   "cell_type": "code",
   "execution_count": 2,
   "metadata": {
    "execution": {
     "iopub.execute_input": "2021-04-16T19:35:12.099615Z",
     "iopub.status.busy": "2021-04-16T19:35:12.098997Z",
     "iopub.status.idle": "2021-04-16T19:35:12.100895Z",
     "shell.execute_reply": "2021-04-16T19:35:12.101335Z"
    },
    "tags": []
   },
   "outputs": [],
   "source": [
    "# Get utils.py\n",
    "\n",
    "from os.path import basename, exists\n",
    "\n",
    "def download(url):\n",
    "    filename = basename(url)\n",
    "    if not exists(filename):\n",
    "        from urllib.request import urlretrieve\n",
    "        local, _ = urlretrieve(url, filename)\n",
    "        print('Downloaded ' + local)\n",
    "    \n",
    "download('https://github.com/AllenDowney/ThinkBayes2/raw/master/soln/utils.py')"
   ]
  },
  {
   "cell_type": "code",
   "execution_count": 3,
   "metadata": {
    "execution": {
     "iopub.execute_input": "2021-04-16T19:35:12.104987Z",
     "iopub.status.busy": "2021-04-16T19:35:12.104287Z",
     "iopub.status.idle": "2021-04-16T19:35:13.067675Z",
     "shell.execute_reply": "2021-04-16T19:35:13.068108Z"
    },
    "tags": []
   },
   "outputs": [],
   "source": [
    "from utils import set_pyplot_params\n",
    "set_pyplot_params()"
   ]
  },
  {
   "cell_type": "markdown",
   "metadata": {},
   "source": [
    "In the previous chapter we used Bayes's Theorem to solve a cookie problem; then we solved it again using a Bayes table.\n",
    "In this chapter, at the risk of testing your patience, we will solve it one more time using a `Pmf` object, which represents a \"probability mass function\".\n",
    "I'll explain what that means, and why it is useful for Bayesian statistics.\n",
    "\n",
    "We'll use `Pmf` objects to solve some more challenging problems and take one more step toward Bayesian statistics.\n",
    "But we'll start with distributions."
   ]
  },
  {
   "cell_type": "markdown",
   "metadata": {},
   "source": [
    "## Distributions\n",
    "\n",
    "In statistics a **distribution** is a set of possible outcomes and their corresponding probabilities.\n",
    "For example, if you toss a coin, there are two possible outcomes with\n",
    "approximately equal probability.\n",
    "If you roll a six-sided die, the set of possible outcomes is the numbers 1 to 6, and the probability associated with each outcome is 1/6.\n",
    "\n",
    "To represent distributions, we'll use a library called `empiricaldist`.\n",
    "An \"empirical\" distribution is based on data, as opposed to a\n",
    "theoretical distribution.\n",
    "We'll use this library throughout the book.  I'll introduce the basic features in this chapter and we'll see additional features later."
   ]
  },
  {
   "cell_type": "markdown",
   "metadata": {},
   "source": [
    "## Probability Mass Functions\n",
    "\n",
    "If the outcomes in a distribution are discrete, we can describe the distribution with a **probability mass function**, or PMF, which is a function that maps from each possible outcome to its probability.\n",
    "\n",
    "`empiricaldist` provides a class called `Pmf` that represents a\n",
    "probability mass function.\n",
    "To use `Pmf` you can import it like this:"
   ]
  },
  {
   "cell_type": "code",
   "execution_count": 4,
   "metadata": {
    "execution": {
     "iopub.execute_input": "2021-04-16T19:35:13.071512Z",
     "iopub.status.busy": "2021-04-16T19:35:13.071040Z",
     "iopub.status.idle": "2021-04-16T19:35:13.073278Z",
     "shell.execute_reply": "2021-04-16T19:35:13.072869Z"
    }
   },
   "outputs": [],
   "source": [
    "from empiricaldist import Pmf"
   ]
  },
  {
   "cell_type": "markdown",
   "metadata": {
    "tags": []
   },
   "source": [
    "If that doesn't work, you might have to install `empiricaldist`; try running\n",
    "\n",
    "```\n",
    "!pip install empiricaldist\n",
    "```\n",
    "\n",
    "in a code cell or\n",
    "\n",
    "```\n",
    "pip install empiricaldist\n",
    "```\n",
    "\n",
    "in a terminal window."
   ]
  },
  {
   "cell_type": "markdown",
   "metadata": {},
   "source": [
    "The following example makes a `Pmf` that represents the outcome of a\n",
    "coin toss."
   ]
  },
  {
   "cell_type": "code",
   "execution_count": 5,
   "metadata": {
    "execution": {
     "iopub.execute_input": "2021-04-16T19:35:13.085000Z",
     "iopub.status.busy": "2021-04-16T19:35:13.081870Z",
     "iopub.status.idle": "2021-04-16T19:35:13.088193Z",
     "shell.execute_reply": "2021-04-16T19:35:13.087667Z"
    }
   },
   "outputs": [
    {
     "data": {
      "text/html": [
       "<div>\n",
       "<style scoped>\n",
       "    .dataframe tbody tr th:only-of-type {\n",
       "        vertical-align: middle;\n",
       "    }\n",
       "\n",
       "    .dataframe tbody tr th {\n",
       "        vertical-align: top;\n",
       "    }\n",
       "\n",
       "    .dataframe thead th {\n",
       "        text-align: right;\n",
       "    }\n",
       "</style>\n",
       "<table border=\"1\" class=\"dataframe\">\n",
       "  <thead>\n",
       "    <tr style=\"text-align: right;\">\n",
       "      <th></th>\n",
       "      <th>probs</th>\n",
       "    </tr>\n",
       "  </thead>\n",
       "  <tbody>\n",
       "    <tr>\n",
       "      <th>heads</th>\n",
       "      <td>0.5</td>\n",
       "    </tr>\n",
       "    <tr>\n",
       "      <th>tails</th>\n",
       "      <td>0.5</td>\n",
       "    </tr>\n",
       "  </tbody>\n",
       "</table>\n",
       "</div>"
      ],
      "text/plain": [
       "heads    0.5\n",
       "tails    0.5\n",
       "Name: , dtype: float64"
      ]
     },
     "execution_count": 5,
     "metadata": {},
     "output_type": "execute_result"
    }
   ],
   "source": [
    "coin = Pmf()\n",
    "coin['heads'] = 1/2\n",
    "coin['tails'] = 1/2\n",
    "coin"
   ]
  },
  {
   "cell_type": "markdown",
   "metadata": {},
   "source": [
    "`Pmf` creates an empty `Pmf` with no outcomes.\n",
    "Then we can add new outcomes using the bracket operator.\n",
    "In this example, the two outcomes are represented with strings, and they have the same probability, 0.5."
   ]
  },
  {
   "cell_type": "markdown",
   "metadata": {},
   "source": [
    "You can also make a `Pmf` from a sequence of possible outcomes.\n",
    "\n",
    "The following example uses `Pmf.from_seq` to make a `Pmf` that represents a six-sided die."
   ]
  },
  {
   "cell_type": "code",
   "execution_count": 6,
   "metadata": {
    "execution": {
     "iopub.execute_input": "2021-04-16T19:35:13.092152Z",
     "iopub.status.busy": "2021-04-16T19:35:13.091700Z",
     "iopub.status.idle": "2021-04-16T19:35:13.101915Z",
     "shell.execute_reply": "2021-04-16T19:35:13.102297Z"
    }
   },
   "outputs": [
    {
     "data": {
      "text/html": [
       "<div>\n",
       "<style scoped>\n",
       "    .dataframe tbody tr th:only-of-type {\n",
       "        vertical-align: middle;\n",
       "    }\n",
       "\n",
       "    .dataframe tbody tr th {\n",
       "        vertical-align: top;\n",
       "    }\n",
       "\n",
       "    .dataframe thead th {\n",
       "        text-align: right;\n",
       "    }\n",
       "</style>\n",
       "<table border=\"1\" class=\"dataframe\">\n",
       "  <thead>\n",
       "    <tr style=\"text-align: right;\">\n",
       "      <th></th>\n",
       "      <th>probs</th>\n",
       "    </tr>\n",
       "  </thead>\n",
       "  <tbody>\n",
       "    <tr>\n",
       "      <th>1</th>\n",
       "      <td>0.166667</td>\n",
       "    </tr>\n",
       "    <tr>\n",
       "      <th>2</th>\n",
       "      <td>0.166667</td>\n",
       "    </tr>\n",
       "    <tr>\n",
       "      <th>3</th>\n",
       "      <td>0.166667</td>\n",
       "    </tr>\n",
       "    <tr>\n",
       "      <th>4</th>\n",
       "      <td>0.166667</td>\n",
       "    </tr>\n",
       "    <tr>\n",
       "      <th>5</th>\n",
       "      <td>0.166667</td>\n",
       "    </tr>\n",
       "    <tr>\n",
       "      <th>6</th>\n",
       "      <td>0.166667</td>\n",
       "    </tr>\n",
       "  </tbody>\n",
       "</table>\n",
       "</div>"
      ],
      "text/plain": [
       "1    0.166667\n",
       "2    0.166667\n",
       "3    0.166667\n",
       "4    0.166667\n",
       "5    0.166667\n",
       "6    0.166667\n",
       "Name: , dtype: float64"
      ]
     },
     "execution_count": 6,
     "metadata": {},
     "output_type": "execute_result"
    }
   ],
   "source": [
    "die = Pmf.from_seq([1,2,3,4,5,6])\n",
    "die"
   ]
  },
  {
   "cell_type": "markdown",
   "metadata": {},
   "source": [
    "In this example, all outcomes in the sequence appear once, so they all have the same probability, $1/6$.\n",
    "\n",
    "More generally, outcomes can appear more than once, as in the following example:"
   ]
  },
  {
   "cell_type": "code",
   "execution_count": 7,
   "metadata": {
    "execution": {
     "iopub.execute_input": "2021-04-16T19:35:13.109370Z",
     "iopub.status.busy": "2021-04-16T19:35:13.108697Z",
     "iopub.status.idle": "2021-04-16T19:35:13.111096Z",
     "shell.execute_reply": "2021-04-16T19:35:13.111446Z"
    }
   },
   "outputs": [
    {
     "data": {
      "text/html": [
       "<div>\n",
       "<style scoped>\n",
       "    .dataframe tbody tr th:only-of-type {\n",
       "        vertical-align: middle;\n",
       "    }\n",
       "\n",
       "    .dataframe tbody tr th {\n",
       "        vertical-align: top;\n",
       "    }\n",
       "\n",
       "    .dataframe thead th {\n",
       "        text-align: right;\n",
       "    }\n",
       "</style>\n",
       "<table border=\"1\" class=\"dataframe\">\n",
       "  <thead>\n",
       "    <tr style=\"text-align: right;\">\n",
       "      <th></th>\n",
       "      <th>probs</th>\n",
       "    </tr>\n",
       "  </thead>\n",
       "  <tbody>\n",
       "    <tr>\n",
       "      <th>M</th>\n",
       "      <td>0.090909</td>\n",
       "    </tr>\n",
       "    <tr>\n",
       "      <th>i</th>\n",
       "      <td>0.363636</td>\n",
       "    </tr>\n",
       "    <tr>\n",
       "      <th>p</th>\n",
       "      <td>0.181818</td>\n",
       "    </tr>\n",
       "    <tr>\n",
       "      <th>s</th>\n",
       "      <td>0.363636</td>\n",
       "    </tr>\n",
       "  </tbody>\n",
       "</table>\n",
       "</div>"
      ],
      "text/plain": [
       "M    0.090909\n",
       "i    0.363636\n",
       "p    0.181818\n",
       "s    0.363636\n",
       "Name: , dtype: float64"
      ]
     },
     "execution_count": 7,
     "metadata": {},
     "output_type": "execute_result"
    }
   ],
   "source": [
    "letters = Pmf.from_seq(list('Mississippi'))\n",
    "letters"
   ]
  },
  {
   "cell_type": "markdown",
   "metadata": {},
   "source": [
    "The letter `M` appears once out of 11 characters, so its probability is $1/11$.\n",
    "The letter `i` appears 4 times, so its probability is $4/11$.\n",
    "\n",
    "Since the letters in a string are not outcomes of a random process, I'll use the more general term \"quantities\" for the letters in the `Pmf`.\n",
    "\n",
    "The `Pmf` class inherits from a Pandas `Series`, so anything you can do with a `Series`, you can also do with a `Pmf`.\n",
    "\n",
    "For example, you can use the bracket operator to look up a quantity and get the corresponding probability."
   ]
  },
  {
   "cell_type": "code",
   "execution_count": 8,
   "metadata": {
    "execution": {
     "iopub.execute_input": "2021-04-16T19:35:13.116296Z",
     "iopub.status.busy": "2021-04-16T19:35:13.115451Z",
     "iopub.status.idle": "2021-04-16T19:35:13.118339Z",
     "shell.execute_reply": "2021-04-16T19:35:13.118724Z"
    }
   },
   "outputs": [
    {
     "data": {
      "text/plain": [
       "0.36363636363636365"
      ]
     },
     "execution_count": 8,
     "metadata": {},
     "output_type": "execute_result"
    }
   ],
   "source": [
    "letters['s']"
   ]
  },
  {
   "cell_type": "markdown",
   "metadata": {},
   "source": [
    "In the word \"Mississippi\", about 36% of the letters are \"s\".\n",
    "\n",
    "However, if you ask for the probability of a quantity that's not in the distribution, you get a `KeyError`.\n",
    "\n"
   ]
  },
  {
   "cell_type": "code",
   "execution_count": 9,
   "metadata": {
    "execution": {
     "iopub.execute_input": "2021-04-16T19:35:13.122337Z",
     "iopub.status.busy": "2021-04-16T19:35:13.121841Z",
     "iopub.status.idle": "2021-04-16T19:35:13.124479Z",
     "shell.execute_reply": "2021-04-16T19:35:13.124086Z"
    },
    "tags": []
   },
   "outputs": [
    {
     "name": "stdout",
     "output_type": "stream",
     "text": [
      "<class 'KeyError'>\n"
     ]
    }
   ],
   "source": [
    "try:\n",
    "    letters['t']\n",
    "except KeyError as e:\n",
    "    print(type(e))"
   ]
  },
  {
   "cell_type": "markdown",
   "metadata": {},
   "source": [
    "You can also call a `Pmf` as if it were a function, with a letter in parentheses."
   ]
  },
  {
   "cell_type": "code",
   "execution_count": 10,
   "metadata": {
    "execution": {
     "iopub.execute_input": "2021-04-16T19:35:13.128416Z",
     "iopub.status.busy": "2021-04-16T19:35:13.127840Z",
     "iopub.status.idle": "2021-04-16T19:35:13.130899Z",
     "shell.execute_reply": "2021-04-16T19:35:13.130488Z"
    }
   },
   "outputs": [
    {
     "data": {
      "text/plain": [
       "0.36363636363636365"
      ]
     },
     "execution_count": 10,
     "metadata": {},
     "output_type": "execute_result"
    }
   ],
   "source": [
    "letters('s')"
   ]
  },
  {
   "cell_type": "markdown",
   "metadata": {},
   "source": [
    "If the quantity is in the distribution the results are the same. \n",
    "But if it is not in the distribution, the result is `0`, not an error."
   ]
  },
  {
   "cell_type": "code",
   "execution_count": 11,
   "metadata": {
    "execution": {
     "iopub.execute_input": "2021-04-16T19:35:13.134469Z",
     "iopub.status.busy": "2021-04-16T19:35:13.133893Z",
     "iopub.status.idle": "2021-04-16T19:35:13.136395Z",
     "shell.execute_reply": "2021-04-16T19:35:13.136752Z"
    }
   },
   "outputs": [
    {
     "data": {
      "text/plain": [
       "0"
      ]
     },
     "execution_count": 11,
     "metadata": {},
     "output_type": "execute_result"
    }
   ],
   "source": [
    "letters('t')"
   ]
  },
  {
   "cell_type": "markdown",
   "metadata": {},
   "source": [
    "With parentheses, you can also provide a sequence of quantities and get a sequence of probabilities."
   ]
  },
  {
   "cell_type": "code",
   "execution_count": 12,
   "metadata": {
    "execution": {
     "iopub.execute_input": "2021-04-16T19:35:13.140773Z",
     "iopub.status.busy": "2021-04-16T19:35:13.140250Z",
     "iopub.status.idle": "2021-04-16T19:35:13.142982Z",
     "shell.execute_reply": "2021-04-16T19:35:13.142616Z"
    }
   },
   "outputs": [
    {
     "data": {
      "text/plain": [
       "array([0.16666667, 0.16666667, 0.        ])"
      ]
     },
     "execution_count": 12,
     "metadata": {},
     "output_type": "execute_result"
    }
   ],
   "source": [
    "die([1,4,7])"
   ]
  },
  {
   "cell_type": "markdown",
   "metadata": {},
   "source": [
    "The quantities in a `Pmf` can be strings, numbers, or any other type that can be stored in the index of a Pandas `Series`.\n",
    "If you are familiar with Pandas, that will help you work with `Pmf` objects. \n",
    "But I will explain what you need to know as we go along."
   ]
  },
  {
   "cell_type": "markdown",
   "metadata": {},
   "source": [
    "## The Cookie Problem Revisited\n",
    "\n",
    "In this section I'll use a `Pmf` to solve the cookie problem from <<_TheCookieProblem>>.\n",
    "Here's the statement of the problem again:\n",
    "\n",
    "> Suppose there are two bowls of cookies.\n",
    ">\n",
    "> * Bowl 1 contains 30 vanilla cookies and 10 chocolate cookies. \n",
    ">\n",
    "> * Bowl 2 contains 20 vanilla cookies and 20 chocolate cookies.\n",
    ">\n",
    "> Now suppose you choose one of the bowls at random and, without looking, choose a cookie at random. If the cookie is vanilla, what is the probability that it came from Bowl 1?\n",
    "\n",
    "Here's a `Pmf` that represents the two hypotheses and their prior probabilities:"
   ]
  },
  {
   "cell_type": "code",
   "execution_count": 13,
   "metadata": {
    "execution": {
     "iopub.execute_input": "2021-04-16T19:35:13.149760Z",
     "iopub.status.busy": "2021-04-16T19:35:13.149078Z",
     "iopub.status.idle": "2021-04-16T19:35:13.152305Z",
     "shell.execute_reply": "2021-04-16T19:35:13.151707Z"
    }
   },
   "outputs": [
    {
     "data": {
      "text/html": [
       "<div>\n",
       "<style scoped>\n",
       "    .dataframe tbody tr th:only-of-type {\n",
       "        vertical-align: middle;\n",
       "    }\n",
       "\n",
       "    .dataframe tbody tr th {\n",
       "        vertical-align: top;\n",
       "    }\n",
       "\n",
       "    .dataframe thead th {\n",
       "        text-align: right;\n",
       "    }\n",
       "</style>\n",
       "<table border=\"1\" class=\"dataframe\">\n",
       "  <thead>\n",
       "    <tr style=\"text-align: right;\">\n",
       "      <th></th>\n",
       "      <th>probs</th>\n",
       "    </tr>\n",
       "  </thead>\n",
       "  <tbody>\n",
       "    <tr>\n",
       "      <th>Bowl 1</th>\n",
       "      <td>0.5</td>\n",
       "    </tr>\n",
       "    <tr>\n",
       "      <th>Bowl 2</th>\n",
       "      <td>0.5</td>\n",
       "    </tr>\n",
       "  </tbody>\n",
       "</table>\n",
       "</div>"
      ],
      "text/plain": [
       "Bowl 1    0.5\n",
       "Bowl 2    0.5\n",
       "Name: , dtype: float64"
      ]
     },
     "execution_count": 13,
     "metadata": {},
     "output_type": "execute_result"
    }
   ],
   "source": [
    "prior = Pmf.from_seq(['Bowl 1', 'Bowl 2'])\n",
    "prior"
   ]
  },
  {
   "cell_type": "markdown",
   "metadata": {},
   "source": [
    "This distribution, which contains the prior probability for each hypothesis, is called (wait for it) the **prior distribution**.\n",
    "\n",
    "To update the distribution based on new data (the vanilla cookie),\n",
    "we multiply the priors by the likelihoods. The likelihood\n",
    "of drawing a vanilla cookie from Bowl 1 is `3/4`. The likelihood\n",
    "for Bowl 2 is `1/2`."
   ]
  },
  {
   "cell_type": "code",
   "execution_count": 14,
   "metadata": {
    "execution": {
     "iopub.execute_input": "2021-04-16T19:35:13.158260Z",
     "iopub.status.busy": "2021-04-16T19:35:13.157620Z",
     "iopub.status.idle": "2021-04-16T19:35:13.160416Z",
     "shell.execute_reply": "2021-04-16T19:35:13.160045Z"
    }
   },
   "outputs": [
    {
     "data": {
      "text/html": [
       "<div>\n",
       "<style scoped>\n",
       "    .dataframe tbody tr th:only-of-type {\n",
       "        vertical-align: middle;\n",
       "    }\n",
       "\n",
       "    .dataframe tbody tr th {\n",
       "        vertical-align: top;\n",
       "    }\n",
       "\n",
       "    .dataframe thead th {\n",
       "        text-align: right;\n",
       "    }\n",
       "</style>\n",
       "<table border=\"1\" class=\"dataframe\">\n",
       "  <thead>\n",
       "    <tr style=\"text-align: right;\">\n",
       "      <th></th>\n",
       "      <th>probs</th>\n",
       "    </tr>\n",
       "  </thead>\n",
       "  <tbody>\n",
       "    <tr>\n",
       "      <th>Bowl 1</th>\n",
       "      <td>0.375</td>\n",
       "    </tr>\n",
       "    <tr>\n",
       "      <th>Bowl 2</th>\n",
       "      <td>0.250</td>\n",
       "    </tr>\n",
       "  </tbody>\n",
       "</table>\n",
       "</div>"
      ],
      "text/plain": [
       "Bowl 1    0.375\n",
       "Bowl 2    0.250\n",
       "Name: , dtype: float64"
      ]
     },
     "execution_count": 14,
     "metadata": {},
     "output_type": "execute_result"
    }
   ],
   "source": [
    "likelihood_vanilla = [0.75, 0.5]\n",
    "posterior = prior * likelihood_vanilla\n",
    "posterior"
   ]
  },
  {
   "cell_type": "markdown",
   "metadata": {},
   "source": [
    "The result is the unnormalized posteriors; that is, they don't add up to 1.\n",
    "To make them add up to 1, we can use `normalize`, which is a method provided by `Pmf`."
   ]
  },
  {
   "cell_type": "code",
   "execution_count": 15,
   "metadata": {
    "execution": {
     "iopub.execute_input": "2021-04-16T19:35:13.164762Z",
     "iopub.status.busy": "2021-04-16T19:35:13.164137Z",
     "iopub.status.idle": "2021-04-16T19:35:13.167103Z",
     "shell.execute_reply": "2021-04-16T19:35:13.166662Z"
    }
   },
   "outputs": [
    {
     "data": {
      "text/plain": [
       "0.625"
      ]
     },
     "execution_count": 15,
     "metadata": {},
     "output_type": "execute_result"
    }
   ],
   "source": [
    "posterior.normalize()"
   ]
  },
  {
   "cell_type": "markdown",
   "metadata": {},
   "source": [
    "The return value from `normalize` is the total probability of the data, which is $5/8$.\n",
    "\n",
    "`posterior`, which contains the posterior probability for each hypothesis, is called (wait now) the **posterior distribution**."
   ]
  },
  {
   "cell_type": "code",
   "execution_count": 16,
   "metadata": {
    "execution": {
     "iopub.execute_input": "2021-04-16T19:35:13.172660Z",
     "iopub.status.busy": "2021-04-16T19:35:13.171984Z",
     "iopub.status.idle": "2021-04-16T19:35:13.174476Z",
     "shell.execute_reply": "2021-04-16T19:35:13.174842Z"
    }
   },
   "outputs": [
    {
     "data": {
      "text/html": [
       "<div>\n",
       "<style scoped>\n",
       "    .dataframe tbody tr th:only-of-type {\n",
       "        vertical-align: middle;\n",
       "    }\n",
       "\n",
       "    .dataframe tbody tr th {\n",
       "        vertical-align: top;\n",
       "    }\n",
       "\n",
       "    .dataframe thead th {\n",
       "        text-align: right;\n",
       "    }\n",
       "</style>\n",
       "<table border=\"1\" class=\"dataframe\">\n",
       "  <thead>\n",
       "    <tr style=\"text-align: right;\">\n",
       "      <th></th>\n",
       "      <th>probs</th>\n",
       "    </tr>\n",
       "  </thead>\n",
       "  <tbody>\n",
       "    <tr>\n",
       "      <th>Bowl 1</th>\n",
       "      <td>0.6</td>\n",
       "    </tr>\n",
       "    <tr>\n",
       "      <th>Bowl 2</th>\n",
       "      <td>0.4</td>\n",
       "    </tr>\n",
       "  </tbody>\n",
       "</table>\n",
       "</div>"
      ],
      "text/plain": [
       "Bowl 1    0.6\n",
       "Bowl 2    0.4\n",
       "Name: , dtype: float64"
      ]
     },
     "execution_count": 16,
     "metadata": {},
     "output_type": "execute_result"
    }
   ],
   "source": [
    "posterior"
   ]
  },
  {
   "cell_type": "markdown",
   "metadata": {},
   "source": [
    "From the posterior distribution we can select the posterior probability for Bowl 1:"
   ]
  },
  {
   "cell_type": "code",
   "execution_count": 17,
   "metadata": {
    "execution": {
     "iopub.execute_input": "2021-04-16T19:35:13.178618Z",
     "iopub.status.busy": "2021-04-16T19:35:13.177927Z",
     "iopub.status.idle": "2021-04-16T19:35:13.180255Z",
     "shell.execute_reply": "2021-04-16T19:35:13.180610Z"
    }
   },
   "outputs": [
    {
     "data": {
      "text/plain": [
       "0.6"
      ]
     },
     "execution_count": 17,
     "metadata": {},
     "output_type": "execute_result"
    }
   ],
   "source": [
    "posterior('Bowl 1')"
   ]
  },
  {
   "cell_type": "markdown",
   "metadata": {},
   "source": [
    "And the answer is 0.6.\n",
    "\n",
    "One benefit of using `Pmf` objects is that it is easy to do successive updates with more data.\n",
    "For example, suppose you put the first cookie back (so the contents of the bowls don't change) and draw again from the same bowl.\n",
    "If the second cookie is also vanilla, we can do a second update like this:"
   ]
  },
  {
   "cell_type": "code",
   "execution_count": 18,
   "metadata": {
    "execution": {
     "iopub.execute_input": "2021-04-16T19:35:13.187902Z",
     "iopub.status.busy": "2021-04-16T19:35:13.187276Z",
     "iopub.status.idle": "2021-04-16T19:35:13.189938Z",
     "shell.execute_reply": "2021-04-16T19:35:13.190290Z"
    }
   },
   "outputs": [
    {
     "data": {
      "text/html": [
       "<div>\n",
       "<style scoped>\n",
       "    .dataframe tbody tr th:only-of-type {\n",
       "        vertical-align: middle;\n",
       "    }\n",
       "\n",
       "    .dataframe tbody tr th {\n",
       "        vertical-align: top;\n",
       "    }\n",
       "\n",
       "    .dataframe thead th {\n",
       "        text-align: right;\n",
       "    }\n",
       "</style>\n",
       "<table border=\"1\" class=\"dataframe\">\n",
       "  <thead>\n",
       "    <tr style=\"text-align: right;\">\n",
       "      <th></th>\n",
       "      <th>probs</th>\n",
       "    </tr>\n",
       "  </thead>\n",
       "  <tbody>\n",
       "    <tr>\n",
       "      <th>Bowl 1</th>\n",
       "      <td>0.692308</td>\n",
       "    </tr>\n",
       "    <tr>\n",
       "      <th>Bowl 2</th>\n",
       "      <td>0.307692</td>\n",
       "    </tr>\n",
       "  </tbody>\n",
       "</table>\n",
       "</div>"
      ],
      "text/plain": [
       "Bowl 1    0.692308\n",
       "Bowl 2    0.307692\n",
       "Name: , dtype: float64"
      ]
     },
     "execution_count": 18,
     "metadata": {},
     "output_type": "execute_result"
    }
   ],
   "source": [
    "posterior *= likelihood_vanilla\n",
    "posterior.normalize()\n",
    "posterior"
   ]
  },
  {
   "cell_type": "markdown",
   "metadata": {},
   "source": [
    "Now the posterior probability for Bowl 1 is almost 70%.\n",
    "But suppose we do the same thing again and get a chocolate cookie.\n",
    "\n",
    "Here are the likelihoods for the new data:"
   ]
  },
  {
   "cell_type": "code",
   "execution_count": 19,
   "metadata": {
    "execution": {
     "iopub.execute_input": "2021-04-16T19:35:13.193226Z",
     "iopub.status.busy": "2021-04-16T19:35:13.192782Z",
     "iopub.status.idle": "2021-04-16T19:35:13.194564Z",
     "shell.execute_reply": "2021-04-16T19:35:13.194987Z"
    }
   },
   "outputs": [],
   "source": [
    "likelihood_chocolate = [0.25, 0.5]"
   ]
  },
  {
   "cell_type": "markdown",
   "metadata": {},
   "source": [
    "And here's the update."
   ]
  },
  {
   "cell_type": "code",
   "execution_count": 20,
   "metadata": {
    "execution": {
     "iopub.execute_input": "2021-04-16T19:35:13.202639Z",
     "iopub.status.busy": "2021-04-16T19:35:13.202008Z",
     "iopub.status.idle": "2021-04-16T19:35:13.204858Z",
     "shell.execute_reply": "2021-04-16T19:35:13.205318Z"
    }
   },
   "outputs": [
    {
     "data": {
      "text/html": [
       "<div>\n",
       "<style scoped>\n",
       "    .dataframe tbody tr th:only-of-type {\n",
       "        vertical-align: middle;\n",
       "    }\n",
       "\n",
       "    .dataframe tbody tr th {\n",
       "        vertical-align: top;\n",
       "    }\n",
       "\n",
       "    .dataframe thead th {\n",
       "        text-align: right;\n",
       "    }\n",
       "</style>\n",
       "<table border=\"1\" class=\"dataframe\">\n",
       "  <thead>\n",
       "    <tr style=\"text-align: right;\">\n",
       "      <th></th>\n",
       "      <th>probs</th>\n",
       "    </tr>\n",
       "  </thead>\n",
       "  <tbody>\n",
       "    <tr>\n",
       "      <th>Bowl 1</th>\n",
       "      <td>0.529412</td>\n",
       "    </tr>\n",
       "    <tr>\n",
       "      <th>Bowl 2</th>\n",
       "      <td>0.470588</td>\n",
       "    </tr>\n",
       "  </tbody>\n",
       "</table>\n",
       "</div>"
      ],
      "text/plain": [
       "Bowl 1    0.529412\n",
       "Bowl 2    0.470588\n",
       "Name: , dtype: float64"
      ]
     },
     "execution_count": 20,
     "metadata": {},
     "output_type": "execute_result"
    }
   ],
   "source": [
    "posterior *= likelihood_chocolate\n",
    "posterior.normalize()\n",
    "posterior"
   ]
  },
  {
   "cell_type": "markdown",
   "metadata": {},
   "source": [
    "Now the posterior probability for Bowl 1 is about 53%.\n",
    "After two vanilla cookies and one chocolate, the posterior probabilities are close to 50/50."
   ]
  },
  {
   "cell_type": "markdown",
   "metadata": {},
   "source": [
    "## 101 Bowls\n",
    "\n",
    "Next let's solve a cookie problem with 101 bowls:\n",
    "\n",
    "* Bowl 0 contains 0% vanilla cookies,\n",
    "\n",
    "* Bowl 1 contains 1% vanilla cookies,\n",
    "\n",
    "* Bowl 2 contains 2% vanilla cookies,\n",
    "\n",
    "and so on, up to\n",
    "\n",
    "* Bowl 99 contains 99% vanilla cookies, and\n",
    "\n",
    "* Bowl 100 contains all vanilla cookies.\n",
    "\n",
    "As in the previous version, there are only two kinds of cookies, vanilla and chocolate.  So Bowl 0 is all chocolate cookies, Bowl 1 is 99% chocolate, and so on.\n",
    "\n",
    "Suppose we choose a bowl at random, choose a cookie at random, and it turns out to be vanilla.  What is the probability that the cookie came from Bowl $x$, for each value of $x$?\n",
    "\n",
    "To solve this problem, I'll use `np.arange` to make an array that represents 101 hypotheses, numbered from 0 to 100."
   ]
  },
  {
   "cell_type": "code",
   "execution_count": 21,
   "metadata": {
    "execution": {
     "iopub.execute_input": "2021-04-16T19:35:13.209286Z",
     "iopub.status.busy": "2021-04-16T19:35:13.208453Z",
     "iopub.status.idle": "2021-04-16T19:35:13.210850Z",
     "shell.execute_reply": "2021-04-16T19:35:13.211365Z"
    }
   },
   "outputs": [],
   "source": [
    "import numpy as np\n",
    "\n",
    "hypos = np.arange(101)"
   ]
  },
  {
   "cell_type": "markdown",
   "metadata": {},
   "source": [
    "We can use this array to make the prior distribution:"
   ]
  },
  {
   "cell_type": "code",
   "execution_count": 22,
   "metadata": {
    "execution": {
     "iopub.execute_input": "2021-04-16T19:35:13.217907Z",
     "iopub.status.busy": "2021-04-16T19:35:13.217166Z",
     "iopub.status.idle": "2021-04-16T19:35:13.220630Z",
     "shell.execute_reply": "2021-04-16T19:35:13.219991Z"
    }
   },
   "outputs": [
    {
     "data": {
      "text/plain": [
       "101"
      ]
     },
     "execution_count": 22,
     "metadata": {},
     "output_type": "execute_result"
    }
   ],
   "source": [
    "prior = Pmf(1, hypos)\n",
    "prior.normalize()"
   ]
  },
  {
   "cell_type": "markdown",
   "metadata": {},
   "source": [
    "As this example shows, we can initialize a `Pmf` with two parameters.\n",
    "The first parameter is the prior probability; the second parameter is a sequence of quantities.\n",
    "\n",
    "In this example, the probabilities are all the same, so we only have to provide one of them; it gets \"broadcast\" across the hypotheses.\n",
    "Since all hypotheses have the same prior probability, this distribution is **uniform**.\n",
    "\n",
    "Here are the first few hypotheses and their probabilities."
   ]
  },
  {
   "cell_type": "code",
   "execution_count": 23,
   "metadata": {
    "execution": {
     "iopub.execute_input": "2021-04-16T19:35:13.228558Z",
     "iopub.status.busy": "2021-04-16T19:35:13.227628Z",
     "iopub.status.idle": "2021-04-16T19:35:13.232003Z",
     "shell.execute_reply": "2021-04-16T19:35:13.231443Z"
    }
   },
   "outputs": [
    {
     "data": {
      "text/html": [
       "<div>\n",
       "<style scoped>\n",
       "    .dataframe tbody tr th:only-of-type {\n",
       "        vertical-align: middle;\n",
       "    }\n",
       "\n",
       "    .dataframe tbody tr th {\n",
       "        vertical-align: top;\n",
       "    }\n",
       "\n",
       "    .dataframe thead th {\n",
       "        text-align: right;\n",
       "    }\n",
       "</style>\n",
       "<table border=\"1\" class=\"dataframe\">\n",
       "  <thead>\n",
       "    <tr style=\"text-align: right;\">\n",
       "      <th></th>\n",
       "      <th>probs</th>\n",
       "    </tr>\n",
       "  </thead>\n",
       "  <tbody>\n",
       "    <tr>\n",
       "      <th>0</th>\n",
       "      <td>0.009901</td>\n",
       "    </tr>\n",
       "    <tr>\n",
       "      <th>1</th>\n",
       "      <td>0.009901</td>\n",
       "    </tr>\n",
       "    <tr>\n",
       "      <th>2</th>\n",
       "      <td>0.009901</td>\n",
       "    </tr>\n",
       "  </tbody>\n",
       "</table>\n",
       "</div>"
      ],
      "text/plain": [
       "0    0.009901\n",
       "1    0.009901\n",
       "2    0.009901\n",
       "Name: , dtype: float64"
      ]
     },
     "execution_count": 23,
     "metadata": {},
     "output_type": "execute_result"
    }
   ],
   "source": [
    "prior.head()"
   ]
  },
  {
   "cell_type": "markdown",
   "metadata": {},
   "source": [
    "The likelihood of the data is the fraction of vanilla cookies in each bowl, which we can calculate using `hypos`:"
   ]
  },
  {
   "cell_type": "code",
   "execution_count": 24,
   "metadata": {
    "execution": {
     "iopub.execute_input": "2021-04-16T19:35:13.237433Z",
     "iopub.status.busy": "2021-04-16T19:35:13.236599Z",
     "iopub.status.idle": "2021-04-16T19:35:13.239986Z",
     "shell.execute_reply": "2021-04-16T19:35:13.240390Z"
    }
   },
   "outputs": [
    {
     "data": {
      "text/plain": [
       "array([0.  , 0.01, 0.02, 0.03, 0.04])"
      ]
     },
     "execution_count": 24,
     "metadata": {},
     "output_type": "execute_result"
    }
   ],
   "source": [
    "likelihood_vanilla = hypos/100\n",
    "likelihood_vanilla[:5]"
   ]
  },
  {
   "cell_type": "markdown",
   "metadata": {},
   "source": [
    "Now we can compute the posterior distribution in the usual way:\n"
   ]
  },
  {
   "cell_type": "code",
   "execution_count": 25,
   "metadata": {
    "execution": {
     "iopub.execute_input": "2021-04-16T19:35:13.247286Z",
     "iopub.status.busy": "2021-04-16T19:35:13.246696Z",
     "iopub.status.idle": "2021-04-16T19:35:13.249668Z",
     "shell.execute_reply": "2021-04-16T19:35:13.249258Z"
    }
   },
   "outputs": [
    {
     "data": {
      "text/html": [
       "<div>\n",
       "<style scoped>\n",
       "    .dataframe tbody tr th:only-of-type {\n",
       "        vertical-align: middle;\n",
       "    }\n",
       "\n",
       "    .dataframe tbody tr th {\n",
       "        vertical-align: top;\n",
       "    }\n",
       "\n",
       "    .dataframe thead th {\n",
       "        text-align: right;\n",
       "    }\n",
       "</style>\n",
       "<table border=\"1\" class=\"dataframe\">\n",
       "  <thead>\n",
       "    <tr style=\"text-align: right;\">\n",
       "      <th></th>\n",
       "      <th>probs</th>\n",
       "    </tr>\n",
       "  </thead>\n",
       "  <tbody>\n",
       "    <tr>\n",
       "      <th>0</th>\n",
       "      <td>0.000000</td>\n",
       "    </tr>\n",
       "    <tr>\n",
       "      <th>1</th>\n",
       "      <td>0.000198</td>\n",
       "    </tr>\n",
       "    <tr>\n",
       "      <th>2</th>\n",
       "      <td>0.000396</td>\n",
       "    </tr>\n",
       "  </tbody>\n",
       "</table>\n",
       "</div>"
      ],
      "text/plain": [
       "0    0.000000\n",
       "1    0.000198\n",
       "2    0.000396\n",
       "Name: , dtype: float64"
      ]
     },
     "execution_count": 25,
     "metadata": {},
     "output_type": "execute_result"
    }
   ],
   "source": [
    "posterior1 = prior * likelihood_vanilla\n",
    "posterior1.normalize()\n",
    "posterior1.head()"
   ]
  },
  {
   "cell_type": "markdown",
   "metadata": {},
   "source": [
    "The following figure shows the prior distribution and the posterior distribution after one vanilla cookie."
   ]
  },
  {
   "cell_type": "code",
   "execution_count": 26,
   "metadata": {
    "execution": {
     "iopub.execute_input": "2021-04-16T19:35:13.253344Z",
     "iopub.status.busy": "2021-04-16T19:35:13.252850Z",
     "iopub.status.idle": "2021-04-16T19:35:13.254442Z",
     "shell.execute_reply": "2021-04-16T19:35:13.254791Z"
    },
    "tags": []
   },
   "outputs": [],
   "source": [
    "from utils import decorate\n",
    "\n",
    "def decorate_bowls(title):\n",
    "    decorate(xlabel='Bowl #',\n",
    "             ylabel='PMF',\n",
    "             title=title)"
   ]
  },
  {
   "cell_type": "code",
   "execution_count": 27,
   "metadata": {
    "execution": {
     "iopub.execute_input": "2021-04-16T19:35:13.258248Z",
     "iopub.status.busy": "2021-04-16T19:35:13.257658Z",
     "iopub.status.idle": "2021-04-16T19:35:13.489195Z",
     "shell.execute_reply": "2021-04-16T19:35:13.488684Z"
    },
    "tags": []
   },
   "outputs": [
    {
     "data": {
      "image/png": "[encoded data removed]",
      "text/plain": [
       "<Figure size 640x480 with 1 Axes>"
      ]
     },
     "metadata": {},
     "output_type": "display_data"
    }
   ],
   "source": [
    "prior.plot(label='prior', color='C5')\n",
    "posterior1.plot(label='posterior', color='C4')\n",
    "decorate_bowls('Posterior after one vanilla cookie')"
   ]
  },
  {
   "cell_type": "markdown",
   "metadata": {},
   "source": [
    "The posterior probability of Bowl 0 is 0 because it contains no vanilla cookies.\n",
    "The posterior probability of Bowl 100 is the highest because it contains the most vanilla cookies.\n",
    "In between, the shape of the posterior distribution is a line because the likelihoods are proportional to the bowl numbers.\n",
    "\n",
    "Now suppose we put the cookie back, draw again from the same bowl, and get another vanilla cookie.\n",
    "Here's the update after the second cookie:"
   ]
  },
  {
   "cell_type": "code",
   "execution_count": 28,
   "metadata": {
    "execution": {
     "iopub.execute_input": "2021-04-16T19:35:13.493905Z",
     "iopub.status.busy": "2021-04-16T19:35:13.493399Z",
     "iopub.status.idle": "2021-04-16T19:35:13.497012Z",
     "shell.execute_reply": "2021-04-16T19:35:13.497425Z"
    },
    "tags": []
   },
   "outputs": [
    {
     "data": {
      "text/plain": [
       "0.6699999999999999"
      ]
     },
     "execution_count": 28,
     "metadata": {},
     "output_type": "execute_result"
    }
   ],
   "source": [
    "posterior2 = posterior1 * likelihood_vanilla\n",
    "posterior2.normalize()"
   ]
  },
  {
   "cell_type": "markdown",
   "metadata": {},
   "source": [
    "And here's what the posterior distribution looks like."
   ]
  },
  {
   "cell_type": "code",
   "execution_count": 29,
   "metadata": {
    "execution": {
     "iopub.execute_input": "2021-04-16T19:35:13.520648Z",
     "iopub.status.busy": "2021-04-16T19:35:13.513566Z",
     "iopub.status.idle": "2021-04-16T19:35:13.640728Z",
     "shell.execute_reply": "2021-04-16T19:35:13.640354Z"
    },
    "tags": []
   },
   "outputs": [
    {
     "data": {
      "image/png": "[encoded data removed]",
      "text/plain": [
       "<Figure size 640x480 with 1 Axes>"
      ]
     },
     "metadata": {},
     "output_type": "display_data"
    }
   ],
   "source": [
    "posterior2.plot(label='posterior', color='C4')\n",
    "decorate_bowls('Posterior after two vanilla cookies')"
   ]
  },
  {
   "cell_type": "markdown",
   "metadata": {},
   "source": [
    "After two vanilla cookies, the high-numbered bowls have the highest posterior probabilities because they contain the most vanilla cookies; the low-numbered bowls have the lowest probabilities.\n",
    "\n",
    "But suppose we draw again and get a chocolate cookie.\n",
    "Here's the update:"
   ]
  },
  {
   "cell_type": "code",
   "execution_count": 30,
   "metadata": {
    "execution": {
     "iopub.execute_input": "2021-04-16T19:35:13.645875Z",
     "iopub.status.busy": "2021-04-16T19:35:13.645126Z",
     "iopub.status.idle": "2021-04-16T19:35:13.650340Z",
     "shell.execute_reply": "2021-04-16T19:35:13.649962Z"
    },
    "tags": []
   },
   "outputs": [
    {
     "data": {
      "text/plain": [
       "0.2462686567164179"
      ]
     },
     "execution_count": 30,
     "metadata": {},
     "output_type": "execute_result"
    }
   ],
   "source": [
    "likelihood_chocolate = 1 - hypos/100\n",
    "\n",
    "posterior3 = posterior2 * likelihood_chocolate\n",
    "posterior3.normalize()"
   ]
  },
  {
   "cell_type": "markdown",
   "metadata": {},
   "source": [
    "And here's the posterior distribution."
   ]
  },
  {
   "cell_type": "code",
   "execution_count": 31,
   "metadata": {
    "execution": {
     "iopub.execute_input": "2021-04-16T19:35:13.684232Z",
     "iopub.status.busy": "2021-04-16T19:35:13.671117Z",
     "iopub.status.idle": "2021-04-16T19:35:13.798448Z",
     "shell.execute_reply": "2021-04-16T19:35:13.797816Z"
    },
    "tags": []
   },
   "outputs": [
    {
     "data": {
      "image/png": "[encoded data removed]",
      "text/plain": [
       "<Figure size 640x480 with 1 Axes>"
      ]
     },
     "metadata": {},
     "output_type": "display_data"
    }
   ],
   "source": [
    "posterior3.plot(label='posterior', color='C4')\n",
    "decorate_bowls('Posterior after 2 vanilla, 1 chocolate')"
   ]
  },
  {
   "cell_type": "markdown",
   "metadata": {},
   "source": [
    "Now Bowl 100 has been eliminated because it contains no chocolate cookies.\n",
    "But the high-numbered bowls are still more likely than the low-numbered bowls, because we have seen more vanilla cookies than chocolate.\n",
    "\n",
    "In fact, the peak of the posterior distribution is at Bowl 67, which corresponds to the fraction of vanilla cookies in the data we've observed, $2/3$.\n",
    "\n",
    "The quantity with the highest posterior probability is called the **MAP**, which stands for \"maximum a posteriori probability\", where \"a posteriori\" is unnecessary Latin for \"posterior\".\n",
    "\n",
    "To compute the MAP, we can use the `Series` method `idxmax`:"
   ]
  },
  {
   "cell_type": "code",
   "execution_count": 32,
   "metadata": {
    "execution": {
     "iopub.execute_input": "2021-04-16T19:35:13.802724Z",
     "iopub.status.busy": "2021-04-16T19:35:13.802249Z",
     "iopub.status.idle": "2021-04-16T19:35:13.806979Z",
     "shell.execute_reply": "2021-04-16T19:35:13.806610Z"
    }
   },
   "outputs": [
    {
     "data": {
      "text/plain": [
       "67"
      ]
     },
     "execution_count": 32,
     "metadata": {},
     "output_type": "execute_result"
    }
   ],
   "source": [
    "posterior3.idxmax()"
   ]
  },
  {
   "cell_type": "markdown",
   "metadata": {},
   "source": [
    "Or `Pmf` provides a more memorable name for the same thing:"
   ]
  },
  {
   "cell_type": "code",
   "execution_count": 33,
   "metadata": {
    "execution": {
     "iopub.execute_input": "2021-04-16T19:35:13.811076Z",
     "iopub.status.busy": "2021-04-16T19:35:13.810496Z",
     "iopub.status.idle": "2021-04-16T19:35:13.815123Z",
     "shell.execute_reply": "2021-04-16T19:35:13.815492Z"
    }
   },
   "outputs": [
    {
     "data": {
      "text/plain": [
       "67"
      ]
     },
     "execution_count": 33,
     "metadata": {},
     "output_type": "execute_result"
    }
   ],
   "source": [
    "posterior3.max_prob()"
   ]
  },
  {
   "cell_type": "markdown",
   "metadata": {},
   "source": [
    "As you might suspect, this example isn't really about bowls; it's about estimating proportions.\n",
    "Imagine that you have one bowl of cookies.\n",
    "You don't know what fraction of cookies are vanilla, but you think it is equally likely to be any fraction from 0 to 1.\n",
    "If you draw three cookies and two are vanilla, what proportion of cookies in the bowl do you think are vanilla?\n",
    "The posterior distribution we just computed is the answer to that question.\n",
    "\n",
    "We'll come back to estimating proportions in the next chapter.\n",
    "But first let's use a `Pmf` to solve the dice problem."
   ]
  },
  {
   "cell_type": "markdown",
   "metadata": {},
   "source": [
    "## The Dice Problem\n",
    "\n",
    "In the previous chapter we solved the dice problem using a Bayes table.\n",
    "Here's the statement of the problem:\n",
    "\n",
    "> Suppose I have a box with a 6-sided die, an 8-sided die, and a 12-sided die.\n",
    "> I choose one of the dice at random, roll it, and report that the outcome is a 1.\n",
    "> What is the probability that I chose the 6-sided die?\n",
    "\n",
    "Let's solve it using a `Pmf`.\n",
    "I'll use integers to represent the hypotheses:"
   ]
  },
  {
   "cell_type": "code",
   "execution_count": 34,
   "metadata": {
    "execution": {
     "iopub.execute_input": "2021-04-16T19:35:13.818821Z",
     "iopub.status.busy": "2021-04-16T19:35:13.818241Z",
     "iopub.status.idle": "2021-04-16T19:35:13.820082Z",
     "shell.execute_reply": "2021-04-16T19:35:13.820472Z"
    }
   },
   "outputs": [],
   "source": [
    "hypos = [6, 8, 12]"
   ]
  },
  {
   "cell_type": "markdown",
   "metadata": {},
   "source": [
    "We can make the prior distribution like this:\n"
   ]
  },
  {
   "cell_type": "code",
   "execution_count": 35,
   "metadata": {
    "execution": {
     "iopub.execute_input": "2021-04-16T19:35:13.826805Z",
     "iopub.status.busy": "2021-04-16T19:35:13.826279Z",
     "iopub.status.idle": "2021-04-16T19:35:13.828958Z",
     "shell.execute_reply": "2021-04-16T19:35:13.828592Z"
    }
   },
   "outputs": [
    {
     "data": {
      "text/html": [
       "<div>\n",
       "<style scoped>\n",
       "    .dataframe tbody tr th:only-of-type {\n",
       "        vertical-align: middle;\n",
       "    }\n",
       "\n",
       "    .dataframe tbody tr th {\n",
       "        vertical-align: top;\n",
       "    }\n",
       "\n",
       "    .dataframe thead th {\n",
       "        text-align: right;\n",
       "    }\n",
       "</style>\n",
       "<table border=\"1\" class=\"dataframe\">\n",
       "  <thead>\n",
       "    <tr style=\"text-align: right;\">\n",
       "      <th></th>\n",
       "      <th>probs</th>\n",
       "    </tr>\n",
       "  </thead>\n",
       "  <tbody>\n",
       "    <tr>\n",
       "      <th>6</th>\n",
       "      <td>0.333333</td>\n",
       "    </tr>\n",
       "    <tr>\n",
       "      <th>8</th>\n",
       "      <td>0.333333</td>\n",
       "    </tr>\n",
       "    <tr>\n",
       "      <th>12</th>\n",
       "      <td>0.333333</td>\n",
       "    </tr>\n",
       "  </tbody>\n",
       "</table>\n",
       "</div>"
      ],
      "text/plain": [
       "6     0.333333\n",
       "8     0.333333\n",
       "12    0.333333\n",
       "Name: , dtype: float64"
      ]
     },
     "execution_count": 35,
     "metadata": {},
     "output_type": "execute_result"
    }
   ],
   "source": [
    "prior = Pmf(1/3, hypos)\n",
    "prior"
   ]
  },
  {
   "cell_type": "markdown",
   "metadata": {},
   "source": [
    "As in the previous example, the prior probability gets broadcast across the hypotheses.\n",
    "The `Pmf` object has two attributes:\n",
    "\n",
    "* `qs` contains the quantities in the distribution;\n",
    "\n",
    "* `ps` contains the corresponding probabilities."
   ]
  },
  {
   "cell_type": "code",
   "execution_count": 36,
   "metadata": {
    "execution": {
     "iopub.execute_input": "2021-04-16T19:35:13.832345Z",
     "iopub.status.busy": "2021-04-16T19:35:13.831824Z",
     "iopub.status.idle": "2021-04-16T19:35:13.834159Z",
     "shell.execute_reply": "2021-04-16T19:35:13.834524Z"
    }
   },
   "outputs": [
    {
     "data": {
      "text/plain": [
       "array([ 6,  8, 12])"
      ]
     },
     "execution_count": 36,
     "metadata": {},
     "output_type": "execute_result"
    }
   ],
   "source": [
    "prior.qs"
   ]
  },
  {
   "cell_type": "code",
   "execution_count": 37,
   "metadata": {
    "execution": {
     "iopub.execute_input": "2021-04-16T19:35:13.838296Z",
     "iopub.status.busy": "2021-04-16T19:35:13.837729Z",
     "iopub.status.idle": "2021-04-16T19:35:13.840670Z",
     "shell.execute_reply": "2021-04-16T19:35:13.840286Z"
    }
   },
   "outputs": [
    {
     "data": {
      "text/plain": [
       "array([0.33333333, 0.33333333, 0.33333333])"
      ]
     },
     "execution_count": 37,
     "metadata": {},
     "output_type": "execute_result"
    }
   ],
   "source": [
    "prior.ps"
   ]
  },
  {
   "cell_type": "markdown",
   "metadata": {},
   "source": [
    "Now we're ready to do the update.\n",
    "Here's the likelihood of the data for each hypothesis."
   ]
  },
  {
   "cell_type": "code",
   "execution_count": 38,
   "metadata": {
    "execution": {
     "iopub.execute_input": "2021-04-16T19:35:13.844228Z",
     "iopub.status.busy": "2021-04-16T19:35:13.843723Z",
     "iopub.status.idle": "2021-04-16T19:35:13.845825Z",
     "shell.execute_reply": "2021-04-16T19:35:13.845372Z"
    }
   },
   "outputs": [],
   "source": [
    "likelihood1 = 1/6, 1/8, 1/12"
   ]
  },
  {
   "cell_type": "markdown",
   "metadata": {},
   "source": [
    "And here's the update."
   ]
  },
  {
   "cell_type": "code",
   "execution_count": 39,
   "metadata": {
    "execution": {
     "iopub.execute_input": "2021-04-16T19:35:13.852365Z",
     "iopub.status.busy": "2021-04-16T19:35:13.851589Z",
     "iopub.status.idle": "2021-04-16T19:35:13.855212Z",
     "shell.execute_reply": "2021-04-16T19:35:13.854647Z"
    }
   },
   "outputs": [
    {
     "data": {
      "text/html": [
       "<div>\n",
       "<style scoped>\n",
       "    .dataframe tbody tr th:only-of-type {\n",
       "        vertical-align: middle;\n",
       "    }\n",
       "\n",
       "    .dataframe tbody tr th {\n",
       "        vertical-align: top;\n",
       "    }\n",
       "\n",
       "    .dataframe thead th {\n",
       "        text-align: right;\n",
       "    }\n",
       "</style>\n",
       "<table border=\"1\" class=\"dataframe\">\n",
       "  <thead>\n",
       "    <tr style=\"text-align: right;\">\n",
       "      <th></th>\n",
       "      <th>probs</th>\n",
       "    </tr>\n",
       "  </thead>\n",
       "  <tbody>\n",
       "    <tr>\n",
       "      <th>6</th>\n",
       "      <td>0.444444</td>\n",
       "    </tr>\n",
       "    <tr>\n",
       "      <th>8</th>\n",
       "      <td>0.333333</td>\n",
       "    </tr>\n",
       "    <tr>\n",
       "      <th>12</th>\n",
       "      <td>0.222222</td>\n",
       "    </tr>\n",
       "  </tbody>\n",
       "</table>\n",
       "</div>"
      ],
      "text/plain": [
       "6     0.444444\n",
       "8     0.333333\n",
       "12    0.222222\n",
       "Name: , dtype: float64"
      ]
     },
     "execution_count": 39,
     "metadata": {},
     "output_type": "execute_result"
    }
   ],
   "source": [
    "posterior = prior * likelihood1\n",
    "posterior.normalize()\n",
    "posterior"
   ]
  },
  {
   "cell_type": "markdown",
   "metadata": {},
   "source": [
    "The posterior probability for the 6-sided die is $4/9$.\n",
    "\n",
    "Now suppose I roll the same die again and get a 7.\n",
    "Here are the likelihoods:"
   ]
  },
  {
   "cell_type": "code",
   "execution_count": 40,
   "metadata": {
    "execution": {
     "iopub.execute_input": "2021-04-16T19:35:13.859245Z",
     "iopub.status.busy": "2021-04-16T19:35:13.858594Z",
     "iopub.status.idle": "2021-04-16T19:35:13.860853Z",
     "shell.execute_reply": "2021-04-16T19:35:13.860402Z"
    }
   },
   "outputs": [],
   "source": [
    "likelihood2 = 0, 1/8, 1/12"
   ]
  },
  {
   "cell_type": "markdown",
   "metadata": {},
   "source": [
    "The likelihood for the 6-sided die is 0 because it is not possible to get a 7 on a 6-sided die.\n",
    "The other two likelihoods are the same as in the previous update.\n",
    "\n",
    "Here's the update:"
   ]
  },
  {
   "cell_type": "code",
   "execution_count": 41,
   "metadata": {
    "execution": {
     "iopub.execute_input": "2021-04-16T19:35:13.867636Z",
     "iopub.status.busy": "2021-04-16T19:35:13.867119Z",
     "iopub.status.idle": "2021-04-16T19:35:13.870075Z",
     "shell.execute_reply": "2021-04-16T19:35:13.869606Z"
    }
   },
   "outputs": [
    {
     "data": {
      "text/html": [
       "<div>\n",
       "<style scoped>\n",
       "    .dataframe tbody tr th:only-of-type {\n",
       "        vertical-align: middle;\n",
       "    }\n",
       "\n",
       "    .dataframe tbody tr th {\n",
       "        vertical-align: top;\n",
       "    }\n",
       "\n",
       "    .dataframe thead th {\n",
       "        text-align: right;\n",
       "    }\n",
       "</style>\n",
       "<table border=\"1\" class=\"dataframe\">\n",
       "  <thead>\n",
       "    <tr style=\"text-align: right;\">\n",
       "      <th></th>\n",
       "      <th>probs</th>\n",
       "    </tr>\n",
       "  </thead>\n",
       "  <tbody>\n",
       "    <tr>\n",
       "      <th>6</th>\n",
       "      <td>0.000000</td>\n",
       "    </tr>\n",
       "    <tr>\n",
       "      <th>8</th>\n",
       "      <td>0.692308</td>\n",
       "    </tr>\n",
       "    <tr>\n",
       "      <th>12</th>\n",
       "      <td>0.307692</td>\n",
       "    </tr>\n",
       "  </tbody>\n",
       "</table>\n",
       "</div>"
      ],
      "text/plain": [
       "6     0.000000\n",
       "8     0.692308\n",
       "12    0.307692\n",
       "Name: , dtype: float64"
      ]
     },
     "execution_count": 41,
     "metadata": {},
     "output_type": "execute_result"
    }
   ],
   "source": [
    "posterior *= likelihood2\n",
    "posterior.normalize()\n",
    "posterior"
   ]
  },
  {
   "cell_type": "markdown",
   "metadata": {},
   "source": [
    "After rolling a 1 and a 7, the posterior probability of the 8-sided die is about 69%."
   ]
  },
  {
   "cell_type": "markdown",
   "metadata": {},
   "source": [
    "## Updating Dice\n",
    "\n",
    "The following function is a more general version of the update in the previous section:"
   ]
  },
  {
   "cell_type": "code",
   "execution_count": 42,
   "metadata": {
    "execution": {
     "iopub.execute_input": "2021-04-16T19:35:13.874004Z",
     "iopub.status.busy": "2021-04-16T19:35:13.873571Z",
     "iopub.status.idle": "2021-04-16T19:35:13.875415Z",
     "shell.execute_reply": "2021-04-16T19:35:13.875784Z"
    }
   },
   "outputs": [],
   "source": [
    "def update_dice(pmf, data):\n",
    "    \"\"\"Update pmf based on new data.\"\"\"\n",
    "    hypos = pmf.qs\n",
    "    likelihood = 1 / hypos\n",
    "    impossible = (data > hypos)\n",
    "    likelihood[impossible] = 0\n",
    "    pmf *= likelihood\n",
    "    pmf.normalize()"
   ]
  },
  {
   "cell_type": "markdown",
   "metadata": {},
   "source": [
    "The first parameter is a `Pmf` that represents the possible dice and their probabilities.\n",
    "The second parameter is the outcome of rolling a die.\n",
    "\n",
    "The first line selects quantities from the `Pmf` which represent the hypotheses.\n",
    "Since the hypotheses are integers, we can use them to compute the likelihoods.\n",
    "In general, if there are `n` sides on the die, the probability of any possible outcome is `1/n`.\n",
    "\n",
    "However, we have to check for impossible outcomes!\n",
    "If the outcome exceeds the hypothetical number of sides on the die, the probability of that outcome is 0.\n",
    "\n",
    "`impossible` is a Boolean `Series` that is `True` for each impossible outcome.\n",
    "I use it as an index into `likelihood` to set the corresponding probabilities to 0.\n",
    "\n",
    "Finally, I multiply `pmf` by the likelihoods and normalize.\n",
    "\n",
    "Here's how we can use this function to compute the updates in the previous section.\n",
    "I start with a fresh copy of the prior distribution:\n"
   ]
  },
  {
   "cell_type": "code",
   "execution_count": 43,
   "metadata": {
    "execution": {
     "iopub.execute_input": "2021-04-16T19:35:13.881390Z",
     "iopub.status.busy": "2021-04-16T19:35:13.880863Z",
     "iopub.status.idle": "2021-04-16T19:35:13.883304Z",
     "shell.execute_reply": "2021-04-16T19:35:13.883671Z"
    }
   },
   "outputs": [
    {
     "data": {
      "text/html": [
       "<div>\n",
       "<style scoped>\n",
       "    .dataframe tbody tr th:only-of-type {\n",
       "        vertical-align: middle;\n",
       "    }\n",
       "\n",
       "    .dataframe tbody tr th {\n",
       "        vertical-align: top;\n",
       "    }\n",
       "\n",
       "    .dataframe thead th {\n",
       "        text-align: right;\n",
       "    }\n",
       "</style>\n",
       "<table border=\"1\" class=\"dataframe\">\n",
       "  <thead>\n",
       "    <tr style=\"text-align: right;\">\n",
       "      <th></th>\n",
       "      <th>probs</th>\n",
       "    </tr>\n",
       "  </thead>\n",
       "  <tbody>\n",
       "    <tr>\n",
       "      <th>6</th>\n",
       "      <td>0.333333</td>\n",
       "    </tr>\n",
       "    <tr>\n",
       "      <th>8</th>\n",
       "      <td>0.333333</td>\n",
       "    </tr>\n",
       "    <tr>\n",
       "      <th>12</th>\n",
       "      <td>0.333333</td>\n",
       "    </tr>\n",
       "  </tbody>\n",
       "</table>\n",
       "</div>"
      ],
      "text/plain": [
       "6     0.333333\n",
       "8     0.333333\n",
       "12    0.333333\n",
       "Name: , dtype: float64"
      ]
     },
     "execution_count": 43,
     "metadata": {},
     "output_type": "execute_result"
    }
   ],
   "source": [
    "pmf = prior.copy()\n",
    "pmf"
   ]
  },
  {
   "cell_type": "markdown",
   "metadata": {},
   "source": [
    "And use `update_dice` to do the updates."
   ]
  },
  {
   "cell_type": "code",
   "execution_count": 44,
   "metadata": {
    "execution": {
     "iopub.execute_input": "2021-04-16T19:35:13.890748Z",
     "iopub.status.busy": "2021-04-16T19:35:13.890070Z",
     "iopub.status.idle": "2021-04-16T19:35:13.893912Z",
     "shell.execute_reply": "2021-04-16T19:35:13.893421Z"
    }
   },
   "outputs": [
    {
     "data": {
      "text/html": [
       "<div>\n",
       "<style scoped>\n",
       "    .dataframe tbody tr th:only-of-type {\n",
       "        vertical-align: middle;\n",
       "    }\n",
       "\n",
       "    .dataframe tbody tr th {\n",
       "        vertical-align: top;\n",
       "    }\n",
       "\n",
       "    .dataframe thead th {\n",
       "        text-align: right;\n",
       "    }\n",
       "</style>\n",
       "<table border=\"1\" class=\"dataframe\">\n",
       "  <thead>\n",
       "    <tr style=\"text-align: right;\">\n",
       "      <th></th>\n",
       "      <th>probs</th>\n",
       "    </tr>\n",
       "  </thead>\n",
       "  <tbody>\n",
       "    <tr>\n",
       "      <th>6</th>\n",
       "      <td>0.000000</td>\n",
       "    </tr>\n",
       "    <tr>\n",
       "      <th>8</th>\n",
       "      <td>0.692308</td>\n",
       "    </tr>\n",
       "    <tr>\n",
       "      <th>12</th>\n",
       "      <td>0.307692</td>\n",
       "    </tr>\n",
       "  </tbody>\n",
       "</table>\n",
       "</div>"
      ],
      "text/plain": [
       "6     0.000000\n",
       "8     0.692308\n",
       "12    0.307692\n",
       "Name: , dtype: float64"
      ]
     },
     "execution_count": 44,
     "metadata": {},
     "output_type": "execute_result"
    }
   ],
   "source": [
    "update_dice(pmf, 1)\n",
    "update_dice(pmf, 7)\n",
    "pmf"
   ]
  },
  {
   "cell_type": "markdown",
   "metadata": {},
   "source": [
    "The result is the same.  We will see a version of this function in the next chapter."
   ]
  },
  {
   "cell_type": "markdown",
   "metadata": {},
   "source": [
    "## Summary\n",
    "\n",
    "This chapter introduces the `empiricaldist` module, which provides `Pmf`, which we use to represent a set of hypotheses and their probabilities.\n",
    "\n",
    "`empiricaldist` is based on Pandas; the `Pmf` class inherits from the Pandas `Series` class and provides additional features specific to probability mass functions.\n",
    "We'll use `Pmf` and other classes from `empiricaldist` throughout the book because they simplify the code and make it more readable.\n",
    "But we could do the same things directly with Pandas.\n",
    "\n",
    "We use a `Pmf` to solve the cookie problem and the dice problem, which we saw in the previous chapter.\n",
    "With a `Pmf` it is easy to perform sequential updates with multiple pieces of data.\n",
    "\n",
    "We also solved a more general version of the cookie problem, with 101 bowls rather than two.\n",
    "Then we computed the MAP, which is the quantity with the highest posterior probability.\n",
    "\n",
    "In the next chapter, I'll introduce the Euro problem, and we will use the binomial distribution.\n",
    "And, at last, we will make the leap from using Bayes's Theorem to doing Bayesian statistics.\n",
    "\n",
    "But first you might want to work on the exercises."
   ]
  },
  {
   "cell_type": "markdown",
   "metadata": {},
   "source": [
    "## Exercises"
   ]
  },
  {
   "cell_type": "markdown",
   "metadata": {},
   "source": [
    "**Exercise:** Suppose I have a box with a 6-sided die, an 8-sided die, and a 12-sided die.\n",
    "I choose one of the dice at random, roll it four times, and get 1, 3, 5, and 7.\n",
    "What is the probability that I chose the 8-sided die?\n",
    "\n",
    "You can use the `update_dice` function or do the update yourself."
   ]
  },
  {
   "cell_type": "code",
   "execution_count": 45,
   "metadata": {
    "execution": {
     "iopub.execute_input": "2021-04-16T19:35:13.904691Z",
     "iopub.status.busy": "2021-04-16T19:35:13.904111Z",
     "iopub.status.idle": "2021-04-16T19:35:13.907043Z",
     "shell.execute_reply": "2021-04-16T19:35:13.906676Z"
    }
   },
   "outputs": [
    {
     "data": {
      "text/html": [
       "<div>\n",
       "<style scoped>\n",
       "    .dataframe tbody tr th:only-of-type {\n",
       "        vertical-align: middle;\n",
       "    }\n",
       "\n",
       "    .dataframe tbody tr th {\n",
       "        vertical-align: top;\n",
       "    }\n",
       "\n",
       "    .dataframe thead th {\n",
       "        text-align: right;\n",
       "    }\n",
       "</style>\n",
       "<table border=\"1\" class=\"dataframe\">\n",
       "  <thead>\n",
       "    <tr style=\"text-align: right;\">\n",
       "      <th></th>\n",
       "      <th>probs</th>\n",
       "    </tr>\n",
       "  </thead>\n",
       "  <tbody>\n",
       "    <tr>\n",
       "      <th>6</th>\n",
       "      <td>0.000000</td>\n",
       "    </tr>\n",
       "    <tr>\n",
       "      <th>8</th>\n",
       "      <td>0.835052</td>\n",
       "    </tr>\n",
       "    <tr>\n",
       "      <th>12</th>\n",
       "      <td>0.164948</td>\n",
       "    </tr>\n",
       "  </tbody>\n",
       "</table>\n",
       "</div>"
      ],
      "text/plain": [
       "6     0.000000\n",
       "8     0.835052\n",
       "12    0.164948\n",
       "Name: , dtype: float64"
      ]
     },
     "execution_count": 45,
     "metadata": {},
     "output_type": "execute_result"
    }
   ],
   "source": [
    "# Solution goes here\n",
    "hypos=[6,8,12]\n",
    "pmf=Pmf(1/3,hypos)\n",
    "update_dice(pmf,1)\n",
    "update_dice(pmf,3)\n",
    "update_dice(pmf,5)\n",
    "update_dice(pmf,7)\n",
    "pmf"
   ]
  },
  {
   "cell_type": "markdown",
   "metadata": {},
   "source": [
    "**Exercise:** In the previous version of the dice problem, the prior probabilities are the same because the box contains one of each die.\n",
    "But suppose the box contains 1 die that is 4-sided, 2 dice that are 6-sided, 3 dice that are 8-sided, 4 dice that are 12-sided, and 5 dice that are 20-sided.\n",
    "I choose a die, roll it, and get a 7.\n",
    "What is the probability that I chose an 8-sided die?\n",
    "\n",
    "Hint: To make the prior distribution, call `Pmf` with two parameters."
   ]
  },
  {
   "cell_type": "code",
   "execution_count": 46,
   "metadata": {
    "execution": {
     "iopub.execute_input": "2021-04-16T19:35:13.914938Z",
     "iopub.status.busy": "2021-04-16T19:35:13.914323Z",
     "iopub.status.idle": "2021-04-16T19:35:13.916995Z",
     "shell.execute_reply": "2021-04-16T19:35:13.917367Z"
    }
   },
   "outputs": [
    {
     "data": {
      "text/html": [
       "<div>\n",
       "<style scoped>\n",
       "    .dataframe tbody tr th:only-of-type {\n",
       "        vertical-align: middle;\n",
       "    }\n",
       "\n",
       "    .dataframe tbody tr th {\n",
       "        vertical-align: top;\n",
       "    }\n",
       "\n",
       "    .dataframe thead th {\n",
       "        text-align: right;\n",
       "    }\n",
       "</style>\n",
       "<table border=\"1\" class=\"dataframe\">\n",
       "  <thead>\n",
       "    <tr style=\"text-align: right;\">\n",
       "      <th></th>\n",
       "      <th>probs</th>\n",
       "    </tr>\n",
       "  </thead>\n",
       "  <tbody>\n",
       "    <tr>\n",
       "      <th>4</th>\n",
       "      <td>0.000000</td>\n",
       "    </tr>\n",
       "    <tr>\n",
       "      <th>6</th>\n",
       "      <td>0.000000</td>\n",
       "    </tr>\n",
       "    <tr>\n",
       "      <th>8</th>\n",
       "      <td>0.391304</td>\n",
       "    </tr>\n",
       "    <tr>\n",
       "      <th>12</th>\n",
       "      <td>0.347826</td>\n",
       "    </tr>\n",
       "    <tr>\n",
       "      <th>20</th>\n",
       "      <td>0.260870</td>\n",
       "    </tr>\n",
       "  </tbody>\n",
       "</table>\n",
       "</div>"
      ],
      "text/plain": [
       "4     0.000000\n",
       "6     0.000000\n",
       "8     0.391304\n",
       "12    0.347826\n",
       "20    0.260870\n",
       "Name: , dtype: float64"
      ]
     },
     "execution_count": 46,
     "metadata": {},
     "output_type": "execute_result"
    }
   ],
   "source": [
    "# Solution goes here\n",
    "pmf=Pmf([1,2,3,4,5],[4,6,8,12,20])\n",
    "pmf.normalize()\n",
    "update_dice(pmf,7)\n",
    "pmf"
   ]
  },
  {
   "cell_type": "markdown",
   "metadata": {},
   "source": [
    "**Exercise:** Suppose I have two sock drawers.\n",
    "One contains equal numbers of black and white socks.\n",
    "The other contains equal numbers of red, green, and blue socks.\n",
    "Suppose I choose a drawer at random, choose two socks at random, and I tell you that I got a matching pair.\n",
    "What is the probability that the socks are white?\n",
    "\n",
    "For simplicity, let's assume that there are so many socks in both drawers that removing one sock makes a negligible change to the proportions."
   ]
  },
  {
   "cell_type": "code",
   "execution_count": 47,
   "metadata": {
    "execution": {
     "iopub.execute_input": "2021-04-16T19:35:13.925514Z",
     "iopub.status.busy": "2021-04-16T19:35:13.924848Z",
     "iopub.status.idle": "2021-04-16T19:35:13.927865Z",
     "shell.execute_reply": "2021-04-16T19:35:13.927501Z"
    }
   },
   "outputs": [
    {
     "data": {
      "text/html": [
       "<div>\n",
       "<style scoped>\n",
       "    .dataframe tbody tr th:only-of-type {\n",
       "        vertical-align: middle;\n",
       "    }\n",
       "\n",
       "    .dataframe tbody tr th {\n",
       "        vertical-align: top;\n",
       "    }\n",
       "\n",
       "    .dataframe thead th {\n",
       "        text-align: right;\n",
       "    }\n",
       "</style>\n",
       "<table border=\"1\" class=\"dataframe\">\n",
       "  <thead>\n",
       "    <tr style=\"text-align: right;\">\n",
       "      <th></th>\n",
       "      <th>probs</th>\n",
       "    </tr>\n",
       "  </thead>\n",
       "  <tbody>\n",
       "    <tr>\n",
       "      <th>KK</th>\n",
       "      <td>0.300000</td>\n",
       "    </tr>\n",
       "    <tr>\n",
       "      <th>KW</th>\n",
       "      <td>0.000000</td>\n",
       "    </tr>\n",
       "    <tr>\n",
       "      <th>WK</th>\n",
       "      <td>0.000000</td>\n",
       "    </tr>\n",
       "    <tr>\n",
       "      <th>WW</th>\n",
       "      <td>0.300000</td>\n",
       "    </tr>\n",
       "    <tr>\n",
       "      <th>RR</th>\n",
       "      <td>0.133333</td>\n",
       "    </tr>\n",
       "    <tr>\n",
       "      <th>RB</th>\n",
       "      <td>0.000000</td>\n",
       "    </tr>\n",
       "    <tr>\n",
       "      <th>BR</th>\n",
       "      <td>0.000000</td>\n",
       "    </tr>\n",
       "    <tr>\n",
       "      <th>BB</th>\n",
       "      <td>0.133333</td>\n",
       "    </tr>\n",
       "    <tr>\n",
       "      <th>RG</th>\n",
       "      <td>0.000000</td>\n",
       "    </tr>\n",
       "    <tr>\n",
       "      <th>GR</th>\n",
       "      <td>0.000000</td>\n",
       "    </tr>\n",
       "    <tr>\n",
       "      <th>GG</th>\n",
       "      <td>0.133333</td>\n",
       "    </tr>\n",
       "    <tr>\n",
       "      <th>BG</th>\n",
       "      <td>0.000000</td>\n",
       "    </tr>\n",
       "    <tr>\n",
       "      <th>GB</th>\n",
       "      <td>0.000000</td>\n",
       "    </tr>\n",
       "  </tbody>\n",
       "</table>\n",
       "</div>"
      ],
      "text/plain": [
       "KK    0.300000\n",
       "KW    0.000000\n",
       "WK    0.000000\n",
       "WW    0.300000\n",
       "RR    0.133333\n",
       "RB    0.000000\n",
       "BR    0.000000\n",
       "BB    0.133333\n",
       "RG    0.000000\n",
       "GR    0.000000\n",
       "GG    0.133333\n",
       "BG    0.000000\n",
       "GB    0.000000\n",
       "Name: , dtype: float64"
      ]
     },
     "execution_count": 47,
     "metadata": {},
     "output_type": "execute_result"
    }
   ],
   "source": [
    "# Solution goes here\n",
    "pmf=Pmf([1/8,1/8,1/8,1/8,1/18,1/18,1/18,1/18,1/18,1/18,1/18,1/18,1/18],['KK','KW','WK','WW','RR','RB','BR','BB','RG','GR','GG','BG','GB'])\n",
    "likelihood=1,0,0,1,1,0,0,1,0,0,1,0,0\n",
    "pmf*=likelihood\n",
    "pmf.normalize()\n",
    "pmf"
   ]
  },
  {
   "cell_type": "markdown",
   "metadata": {},
   "source": [
    "**Exercise:** Here's a problem from [Bayesian Data Analysis](http://www.stat.columbia.edu/~gelman/book/):\n",
    "\n",
    "> Elvis Presley had a twin brother (who died at birth). What is the probability that Elvis was an identical twin?\n",
    "\n",
    "Hint: In 1935, about 2/3 of twins were fraternal and 1/3 were identical."
   ]
  },
  {
   "cell_type": "code",
   "execution_count": 48,
   "metadata": {
    "execution": {
     "iopub.execute_input": "2021-04-16T19:35:13.942870Z",
     "iopub.status.busy": "2021-04-16T19:35:13.942005Z",
     "iopub.status.idle": "2021-04-16T19:35:13.950507Z",
     "shell.execute_reply": "2021-04-16T19:35:13.950906Z"
    }
   },
   "outputs": [
    {
     "data": {
      "text/html": [
       "<div>\n",
       "<style scoped>\n",
       "    .dataframe tbody tr th:only-of-type {\n",
       "        vertical-align: middle;\n",
       "    }\n",
       "\n",
       "    .dataframe tbody tr th {\n",
       "        vertical-align: top;\n",
       "    }\n",
       "\n",
       "    .dataframe thead th {\n",
       "        text-align: right;\n",
       "    }\n",
       "</style>\n",
       "<table border=\"1\" class=\"dataframe\">\n",
       "  <thead>\n",
       "    <tr style=\"text-align: right;\">\n",
       "      <th></th>\n",
       "      <th>probs</th>\n",
       "    </tr>\n",
       "  </thead>\n",
       "  <tbody>\n",
       "    <tr>\n",
       "      <th>Fraternal</th>\n",
       "      <td>0.5</td>\n",
       "    </tr>\n",
       "    <tr>\n",
       "      <th>Identical</th>\n",
       "      <td>0.5</td>\n",
       "    </tr>\n",
       "  </tbody>\n",
       "</table>\n",
       "</div>"
      ],
      "text/plain": [
       "Fraternal    0.5\n",
       "Identical    0.5\n",
       "Name: , dtype: float64"
      ]
     },
     "execution_count": 48,
     "metadata": {},
     "output_type": "execute_result"
    }
   ],
   "source": [
    "# Solution goes here\n",
    "pmf_twins=Pmf([2/3,1/3],[\"Fraternal\",\"Identical\"])\n",
    "likelihood=1/2,1 # Male-Female vs. Male-Male in fraternal, while only Male-Male in identical twins\n",
    "pmf_twins*=likelihood\n",
    "pmf_twins.normalize()\n",
    "pmf_twins"
   ]
  },
  {
   "cell_type": "code",
   "execution_count": 49,
   "metadata": {},
   "outputs": [
    {
     "data": {
      "image/png": "[encoded data removed]",
      "text/plain": [
       "<Figure size 640x480 with 1 Axes>"
      ]
     },
     "metadata": {},
     "output_type": "display_data"
    }
   ],
   "source": [
    "# Solution goes here\n",
    "# Exercise 3.1 in Thinking Bayes 2\n",
    "hypos=np.linspace(0,1,100)\n",
    "values=[]\n",
    "for i in hypos:\n",
    "    if i>=0.2 and i<=0.33:\n",
    "        values.append(1)\n",
    "    else:\n",
    "        values.append(0)\n",
    "\n",
    "prior=Pmf(values,hypos)\n",
    "prior.normalize()\n",
    "likelihood={\n",
    "    'H': hypos,\n",
    "    'M': 1-hypos\n",
    "}\n",
    "dataset='H'*3\n",
    "def update(pmf,dataset):\n",
    "    for data in dataset:\n",
    "        pmf*=likelihood[data]                      \n",
    "    pmf.normalize()\n",
    "posterior=prior.copy()\n",
    "update(posterior,dataset)\n",
    "prior.plot(label='prior',color='C5')\n",
    "posterior.plot(label='posterior', color='C4')\n",
    "decorate(xlabel='% probability of hit',\n",
    "             ylabel='PMF',\n",
    "             title='Prior and posterior after three hits')\n"
   ]
  },
  {
   "cell_type": "code",
   "execution_count": 50,
   "metadata": {},
   "outputs": [
    {
     "data": {
      "text/plain": [
       "0.6"
      ]
     },
     "execution_count": 50,
     "metadata": {},
     "output_type": "execute_result"
    },
    {
     "data": {
      "image/png": "[encoded data removed]",
      "text/plain": [
       "<Figure size 640x480 with 1 Axes>"
      ]
     },
     "metadata": {},
     "output_type": "display_data"
    }
   ],
   "source": [
    "# Solution goes here\n",
    "# Exercise 3.2 in Thinking Bayes 2\n",
    "hypos=np.linspace(0,1,101)\n",
    "prior=Pmf(1,hypos)\n",
    "prior.normalize()\n",
    "likelihood={ 'Y': 1/2+hypos/2, 'N': 1-hypos } # HY -> Y, HN-> Y, TY->Y, TN->N\n",
    "dataset='Y'*80+'N'*20\n",
    "posterior=prior.copy()\n",
    "update(posterior,dataset)\n",
    "prior.plot(label='prior', color='C5')\n",
    "posterior.plot(label='posterior 80% YES & 20% NO', color='C4')\n",
    "decorate(xlabel='probability of tax cheating',\n",
    "             ylabel='PMF',\n",
    "             title='Prior and posterior')\n",
    "posterior.max_prob()"
   ]
  },
  {
   "cell_type": "code",
   "execution_count": 77,
   "metadata": {
    "execution": {
     "iopub.execute_input": "2021-04-16T19:35:13.957464Z",
     "iopub.status.busy": "2021-04-16T19:35:13.956748Z",
     "iopub.status.idle": "2021-04-16T19:35:13.959501Z",
     "shell.execute_reply": "2021-04-16T19:35:13.959878Z"
    }
   },
   "outputs": [
    {
     "data": {
      "image/png": "[encoded data removed]",
      "text/plain": [
       "<Figure size 640x480 with 1 Axes>"
      ]
     },
     "metadata": {},
     "output_type": "display_data"
    }
   ],
   "source": [
    "# Solution goes here\n",
    "# Exercise 3.3 in Thinking Bayes 2\n",
    "hypos=np.linspace(0,1,101)\n",
    "prior=Pmf(1,hypos)\n",
    "def update(pmf,likelihood,dataset):\n",
    "    for data in dataset:\n",
    "        pmf*=likelihood[data]\n",
    "    pmf.normalize()\n",
    "likelihood1={'H':hypos,'T':(1-hypos)}\n",
    "y=0.2\n",
    "likelihood2={'H':(1-y)*hypos+y*(1-hypos),'T':(1-y)*(1-hypos)+y*hypos}\n",
    "dataset='H'*140+'T'*110\n",
    "posterior1=prior.copy()\n",
    "update(posterior1,likelihood1,dataset)\n",
    "posterior2=prior.copy()\n",
    "update(posterior2,likelihood2,dataset)\n",
    "posterior1.plot(label='y=0',color='C5')\n",
    "posterior2.plot(label='y=0.2',color='C2')\n",
    "decorate(xlabel='probability of heads',\n",
    "             ylabel='PMF',\n",
    "             title='Posteriors with sensor errors')"
   ]
  },
  {
   "cell_type": "code",
   "execution_count": 81,
   "metadata": {
    "execution": {
     "iopub.execute_input": "2021-04-16T19:35:13.967573Z",
     "iopub.status.busy": "2021-04-16T19:35:13.966835Z",
     "iopub.status.idle": "2021-04-16T19:35:13.970002Z",
     "shell.execute_reply": "2021-04-16T19:35:13.969457Z"
    }
   },
   "outputs": [
    {
     "data": {
      "image/png": "[encoded data removed]",
      "text/plain": [
       "<Figure size 640x480 with 1 Axes>"
      ]
     },
     "metadata": {},
     "output_type": "display_data"
    }
   ],
   "source": [
    "# Solution goes here\n",
    "# Exercise 3.4 in Thinking Bayes 2\n",
    "hypos=np.linspace(0,1,101)\n",
    "prior=Pmf()\n",
    "for x in hypos:\n",
    "    if x<0.1 or x>0.4:\n",
    "        prior[x]=0\n",
    "    else:\n",
    "        prior[x]=1\n",
    "prior.normalize()\n",
    "likelihood=hypos**4+(2*hypos*(1-hypos))**2+(1-hypos)**4 # p(observing no hits in two tests)+p(observing 1 hit in two tests)+p(observing 2 hits on both tests)\n",
    "posterior=prior.copy()\n",
    "posterior*=likelihood\n",
    "posterior.normalize()\n",
    "prior.plot(label='prior',color='C5')\n",
    "posterior.plot(label='same number of hits on two tests',color='C2')\n",
    "decorate(xlabel='probability of hit',\n",
    "             ylabel='PMF',\n",
    "             title='Posterior when same number of hits on two tests')\n",
    "\n",
    "# The data is bad as the system increases the posterior in the lower half of effectivity\n"
   ]
  },
  {
   "cell_type": "code",
   "execution_count": null,
   "metadata": {},
   "outputs": [],
   "source": []
  }
 ],
 "metadata": {
  "celltoolbar": "Tags",
  "kernelspec": {
   "display_name": "Python 3 (ipykernel)",
   "language": "python",
   "name": "python3"
  },
  "language_info": {
   "codemirror_mode": {
    "name": "ipython",
    "version": 3
   },
   "file_extension": ".py",
   "mimetype": "text/x-python",
   "name": "python",
   "nbconvert_exporter": "python",
   "pygments_lexer": "ipython3",
   "version": "3.9.0"
  }
 },
 "nbformat": 4,
 "nbformat_minor": 4
}
